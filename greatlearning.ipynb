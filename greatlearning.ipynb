{
 "cells": [
  {
   "cell_type": "code",
   "execution_count": 1,
   "id": "861f3af1-24e3-477e-8cb3-218c45104f9c",
   "metadata": {},
   "outputs": [
    {
     "name": "stdout",
     "output_type": "stream",
     "text": [
      "hello world\n"
     ]
    }
   ],
   "source": [
    "print(\"hello world\")"
   ]
  },
  {
   "cell_type": "code",
   "execution_count": 3,
   "id": "00aa118c-0d87-49c2-a1f5-1f92840eb6f2",
   "metadata": {},
   "outputs": [
    {
     "data": {
      "text/plain": [
       "200"
      ]
     },
     "execution_count": 3,
     "metadata": {},
     "output_type": "execute_result"
    }
   ],
   "source": [
    "vari=200\n",
    "vari"
   ]
  },
  {
   "cell_type": "code",
   "execution_count": 5,
   "id": "861ddb8c-04c5-4439-9426-e909221ce7fe",
   "metadata": {},
   "outputs": [
    {
     "data": {
      "text/plain": [
       "'mahesh'"
      ]
     },
     "execution_count": 5,
     "metadata": {},
     "output_type": "execute_result"
    }
   ],
   "source": [
    "vari='mahesh'\n",
    "vari"
   ]
  },
  {
   "cell_type": "code",
   "execution_count": 7,
   "id": "b5e44713-ee91-4165-a216-16d35daec81d",
   "metadata": {},
   "outputs": [
    {
     "data": {
      "text/plain": [
       "int"
      ]
     },
     "execution_count": 7,
     "metadata": {},
     "output_type": "execute_result"
    }
   ],
   "source": [
    "a=10\n",
    "type(a)"
   ]
  },
  {
   "cell_type": "code",
   "execution_count": 9,
   "id": "bbea6af2-9db6-433f-8e05-2c38f428a3f2",
   "metadata": {},
   "outputs": [
    {
     "data": {
      "text/plain": [
       "str"
      ]
     },
     "execution_count": 9,
     "metadata": {},
     "output_type": "execute_result"
    }
   ],
   "source": [
    "a='mahesh'\n",
    "type(a)"
   ]
  },
  {
   "cell_type": "code",
   "execution_count": 11,
   "id": "f73610d8-1147-45da-80a7-94d57fa60e81",
   "metadata": {},
   "outputs": [
    {
     "data": {
      "text/plain": [
       "bool"
      ]
     },
     "execution_count": 11,
     "metadata": {},
     "output_type": "execute_result"
    }
   ],
   "source": [
    "a=True\n",
    "type(a)"
   ]
  },
  {
   "cell_type": "code",
   "execution_count": 13,
   "id": "e89c2cc3-8596-4929-8cef-7041b437f979",
   "metadata": {},
   "outputs": [
    {
     "data": {
      "text/plain": [
       "float"
      ]
     },
     "execution_count": 13,
     "metadata": {},
     "output_type": "execute_result"
    }
   ],
   "source": [
    "a=10.5\n",
    "type(a)"
   ]
  },
  {
   "cell_type": "code",
   "execution_count": 15,
   "id": "12b05d60-a84d-4240-9974-bbeafb9a728d",
   "metadata": {},
   "outputs": [
    {
     "data": {
      "text/plain": [
       "30"
      ]
     },
     "execution_count": 15,
     "metadata": {},
     "output_type": "execute_result"
    }
   ],
   "source": [
    "a=10\n",
    "b=20\n",
    "a+b"
   ]
  },
  {
   "cell_type": "code",
   "execution_count": 17,
   "id": "042dfeca-7854-4688-b72a-7eb9af0ddd38",
   "metadata": {},
   "outputs": [
    {
     "data": {
      "text/plain": [
       "-10"
      ]
     },
     "execution_count": 17,
     "metadata": {},
     "output_type": "execute_result"
    }
   ],
   "source": [
    "a-b"
   ]
  },
  {
   "cell_type": "code",
   "execution_count": 19,
   "id": "51b82c9b-bb77-4941-84dd-276534ebdbc0",
   "metadata": {},
   "outputs": [
    {
     "data": {
      "text/plain": [
       "200"
      ]
     },
     "execution_count": 19,
     "metadata": {},
     "output_type": "execute_result"
    }
   ],
   "source": [
    "a*b"
   ]
  },
  {
   "cell_type": "code",
   "execution_count": 21,
   "id": "1a16bf6a-1e85-4f11-b34e-fb1eab22e005",
   "metadata": {},
   "outputs": [
    {
     "data": {
      "text/plain": [
       "0.5"
      ]
     },
     "execution_count": 21,
     "metadata": {},
     "output_type": "execute_result"
    }
   ],
   "source": [
    "a/b"
   ]
  },
  {
   "cell_type": "code",
   "execution_count": 23,
   "id": "1b5ab846-feeb-47ae-a00e-818ddb8bd316",
   "metadata": {},
   "outputs": [
    {
     "data": {
      "text/plain": [
       "False"
      ]
     },
     "execution_count": 23,
     "metadata": {},
     "output_type": "execute_result"
    }
   ],
   "source": [
    "a>b"
   ]
  },
  {
   "cell_type": "code",
   "execution_count": 25,
   "id": "937059d2-568d-4abb-92e5-2958cf72ca7c",
   "metadata": {},
   "outputs": [
    {
     "data": {
      "text/plain": [
       "True"
      ]
     },
     "execution_count": 25,
     "metadata": {},
     "output_type": "execute_result"
    }
   ],
   "source": [
    "a<b"
   ]
  },
  {
   "cell_type": "code",
   "execution_count": 27,
   "id": "c3c5a948-a06c-4033-bc74-4714e7aae82e",
   "metadata": {},
   "outputs": [
    {
     "data": {
      "text/plain": [
       "False"
      ]
     },
     "execution_count": 27,
     "metadata": {},
     "output_type": "execute_result"
    }
   ],
   "source": [
    "a==b"
   ]
  },
  {
   "cell_type": "code",
   "execution_count": 29,
   "id": "b973ef6d-3264-4ddd-ade9-74dbc04994db",
   "metadata": {},
   "outputs": [
    {
     "data": {
      "text/plain": [
       "'h'"
      ]
     },
     "execution_count": 29,
     "metadata": {},
     "output_type": "execute_result"
    }
   ],
   "source": [
    "a='hello my world'\n",
    "a[0]"
   ]
  },
  {
   "cell_type": "code",
   "execution_count": 31,
   "id": "edefeb83-1e9c-45b1-bab8-0b0c860ed198",
   "metadata": {},
   "outputs": [
    {
     "data": {
      "text/plain": [
       "'l'"
      ]
     },
     "execution_count": 31,
     "metadata": {},
     "output_type": "execute_result"
    }
   ],
   "source": [
    "a[2]"
   ]
  },
  {
   "cell_type": "code",
   "execution_count": 33,
   "id": "b0444ddd-493b-4080-82c8-f2384a235d05",
   "metadata": {},
   "outputs": [
    {
     "data": {
      "text/plain": [
       "' '"
      ]
     },
     "execution_count": 33,
     "metadata": {},
     "output_type": "execute_result"
    }
   ],
   "source": [
    "a[5]"
   ]
  },
  {
   "cell_type": "code",
   "execution_count": 35,
   "id": "e9092300-9ab2-46ac-bae3-9f7489825544",
   "metadata": {},
   "outputs": [
    {
     "data": {
      "text/plain": [
       "'hell'"
      ]
     },
     "execution_count": 35,
     "metadata": {},
     "output_type": "execute_result"
    }
   ],
   "source": [
    "a[0:4]"
   ]
  },
  {
   "cell_type": "code",
   "execution_count": 37,
   "id": "53d23e7b-d88e-498b-8a17-c40e844dbc0b",
   "metadata": {},
   "outputs": [
    {
     "data": {
      "text/plain": [
       "'hello'"
      ]
     },
     "execution_count": 37,
     "metadata": {},
     "output_type": "execute_result"
    }
   ],
   "source": [
    "a[0:5]"
   ]
  },
  {
   "cell_type": "code",
   "execution_count": 39,
   "id": "65bfcc99-ea04-4c5c-babe-38281909734a",
   "metadata": {},
   "outputs": [
    {
     "data": {
      "text/plain": [
       "'hello my world'"
      ]
     },
     "execution_count": 39,
     "metadata": {},
     "output_type": "execute_result"
    }
   ],
   "source": [
    "a.lower()"
   ]
  },
  {
   "cell_type": "code",
   "execution_count": 41,
   "id": "240d457b-1a25-4617-808a-c96d423acaad",
   "metadata": {},
   "outputs": [
    {
     "data": {
      "text/plain": [
       "'HELLO MY WORLD'"
      ]
     },
     "execution_count": 41,
     "metadata": {},
     "output_type": "execute_result"
    }
   ],
   "source": [
    "a.upper()"
   ]
  },
  {
   "cell_type": "code",
   "execution_count": 45,
   "id": "cf8f8e17-cb4f-4e62-a030-a2e518c318b1",
   "metadata": {},
   "outputs": [
    {
     "data": {
      "text/plain": [
       "'nello my world'"
      ]
     },
     "execution_count": 45,
     "metadata": {},
     "output_type": "execute_result"
    }
   ],
   "source": [
    "a.replace('h','n')"
   ]
  },
  {
   "cell_type": "code",
   "execution_count": 51,
   "id": "1aa8e68c-22dd-4688-8844-466fa19fe075",
   "metadata": {},
   "outputs": [
    {
     "data": {
      "text/plain": [
       "1"
      ]
     },
     "execution_count": 51,
     "metadata": {},
     "output_type": "execute_result"
    }
   ],
   "source": [
    "a.count('h')"
   ]
  },
  {
   "cell_type": "code",
   "execution_count": 53,
   "id": "b3b70f96-053c-4b45-b292-40d7bc6cd2d0",
   "metadata": {},
   "outputs": [
    {
     "data": {
      "text/plain": [
       "2"
      ]
     },
     "execution_count": 53,
     "metadata": {},
     "output_type": "execute_result"
    }
   ],
   "source": [
    "a.count('o')"
   ]
  },
  {
   "cell_type": "code",
   "execution_count": 55,
   "id": "c0080527-f8de-473e-b09d-9ca47d79f29a",
   "metadata": {},
   "outputs": [
    {
     "data": {
      "text/plain": [
       "9"
      ]
     },
     "execution_count": 55,
     "metadata": {},
     "output_type": "execute_result"
    }
   ],
   "source": [
    "a.find('world')"
   ]
  },
  {
   "cell_type": "code",
   "execution_count": 57,
   "id": "f64bebe6-e31c-41f7-87bf-51387e1c670c",
   "metadata": {},
   "outputs": [
    {
     "data": {
      "text/plain": [
       "['hello', 'my', 'world']"
      ]
     },
     "execution_count": 57,
     "metadata": {},
     "output_type": "execute_result"
    }
   ],
   "source": [
    "a.split(' ')"
   ]
  },
  {
   "cell_type": "code",
   "execution_count": 59,
   "id": "b8f51bdf-0ec9-489a-96d4-e2c0bc98c3af",
   "metadata": {},
   "outputs": [],
   "source": [
    "tup=(1,\"a\",True,\"b\")"
   ]
  },
  {
   "cell_type": "code",
   "execution_count": 63,
   "id": "f887e3f8-3e4c-4188-9125-1fc80e1d69e0",
   "metadata": {},
   "outputs": [
    {
     "data": {
      "text/plain": [
       "(1, 'a', True, 'b')"
      ]
     },
     "execution_count": 63,
     "metadata": {},
     "output_type": "execute_result"
    }
   ],
   "source": [
    "tup"
   ]
  },
  {
   "cell_type": "code",
   "execution_count": 65,
   "id": "27eb00cf-1b64-4fe8-9498-abd792aee674",
   "metadata": {},
   "outputs": [
    {
     "data": {
      "text/plain": [
       "1"
      ]
     },
     "execution_count": 65,
     "metadata": {},
     "output_type": "execute_result"
    }
   ],
   "source": [
    "tup[0]"
   ]
  },
  {
   "cell_type": "code",
   "execution_count": 67,
   "id": "4e71b891-e924-4365-9c06-30b4bf442fdd",
   "metadata": {},
   "outputs": [
    {
     "data": {
      "text/plain": [
       "'b'"
      ]
     },
     "execution_count": 67,
     "metadata": {},
     "output_type": "execute_result"
    }
   ],
   "source": [
    "tup[-1]"
   ]
  },
  {
   "cell_type": "code",
   "execution_count": 71,
   "id": "4900dbc8-2e07-4ae0-8f96-0f40ceb0df51",
   "metadata": {},
   "outputs": [
    {
     "data": {
      "text/plain": [
       "(1, 'a', True, 'b')"
      ]
     },
     "execution_count": 71,
     "metadata": {},
     "output_type": "execute_result"
    }
   ],
   "source": [
    "tup[0:4]"
   ]
  },
  {
   "cell_type": "code",
   "execution_count": 73,
   "id": "18c21cab-d7b8-40e6-b341-a9ffb117acb8",
   "metadata": {},
   "outputs": [
    {
     "data": {
      "text/plain": [
       "4"
      ]
     },
     "execution_count": 73,
     "metadata": {},
     "output_type": "execute_result"
    }
   ],
   "source": [
    "len(tup)"
   ]
  },
  {
   "cell_type": "code",
   "execution_count": 75,
   "id": "fdc34df7-3660-4fa3-be09-8653470f7c81",
   "metadata": {},
   "outputs": [
    {
     "data": {
      "text/plain": [
       "('mahesh', 'vamsi', 10, 20, 30)"
      ]
     },
     "execution_count": 75,
     "metadata": {},
     "output_type": "execute_result"
    }
   ],
   "source": [
    "tup1=('mahesh','vamsi')\n",
    "tup2=(10,20,30)\n",
    "tup1+tup2"
   ]
  },
  {
   "cell_type": "code",
   "execution_count": 79,
   "id": "5c861ba5-2310-44f6-8e91-e5896aaadfd5",
   "metadata": {},
   "outputs": [
    {
     "data": {
      "text/plain": [
       "('mahesh', 'vamsi', 10, 20, 30)"
      ]
     },
     "execution_count": 79,
     "metadata": {},
     "output_type": "execute_result"
    }
   ],
   "source": [
    "tup1+tup2"
   ]
  },
  {
   "cell_type": "code",
   "execution_count": 81,
   "id": "52486eb4-ebca-4015-ac5f-a9594a11ca5f",
   "metadata": {},
   "outputs": [
    {
     "data": {
      "text/plain": [
       "10"
      ]
     },
     "execution_count": 81,
     "metadata": {},
     "output_type": "execute_result"
    }
   ],
   "source": [
    "tup1=10,20,30,40\n",
    "min(tup1)"
   ]
  },
  {
   "cell_type": "code",
   "execution_count": 83,
   "id": "1dde225f-11ef-48e1-bdf1-00b19b93a6af",
   "metadata": {},
   "outputs": [
    {
     "data": {
      "text/plain": [
       "40"
      ]
     },
     "execution_count": 83,
     "metadata": {},
     "output_type": "execute_result"
    }
   ],
   "source": [
    "max(tup1)"
   ]
  },
  {
   "cell_type": "code",
   "execution_count": 85,
   "id": "c7502fd3-a467-4168-9670-a738891a5f97",
   "metadata": {},
   "outputs": [
    {
     "data": {
      "text/plain": [
       "[1, 'a', 2, 'b']"
      ]
     },
     "execution_count": 85,
     "metadata": {},
     "output_type": "execute_result"
    }
   ],
   "source": [
    "l1=[1,'a',2,'b']\n",
    "l1"
   ]
  },
  {
   "cell_type": "code",
   "execution_count": 91,
   "id": "48d5f017-74c8-42d2-8d60-7aa7daa8e331",
   "metadata": {},
   "outputs": [
    {
     "data": {
      "text/plain": [
       "'b'"
      ]
     },
     "execution_count": 91,
     "metadata": {},
     "output_type": "execute_result"
    }
   ],
   "source": [
    "l1[3]"
   ]
  },
  {
   "cell_type": "code",
   "execution_count": 93,
   "id": "6cad7f9b-4b3b-4f6d-98f7-8b753b622f0d",
   "metadata": {},
   "outputs": [
    {
     "data": {
      "text/plain": [
       "1"
      ]
     },
     "execution_count": 93,
     "metadata": {},
     "output_type": "execute_result"
    }
   ],
   "source": [
    "l1[0]"
   ]
  },
  {
   "cell_type": "code",
   "execution_count": 95,
   "id": "7b7e04d1-543e-4e8b-b3ab-5ada5373d377",
   "metadata": {},
   "outputs": [
    {
     "data": {
      "text/plain": [
       "[1, 'a', 2]"
      ]
     },
     "execution_count": 95,
     "metadata": {},
     "output_type": "execute_result"
    }
   ],
   "source": [
    "l1[0:3]"
   ]
  },
  {
   "cell_type": "code",
   "execution_count": 97,
   "id": "09235c55-306d-4aa6-ad3b-70c44d74ac01",
   "metadata": {},
   "outputs": [],
   "source": [
    "l1[0]=100"
   ]
  },
  {
   "cell_type": "code",
   "execution_count": 99,
   "id": "dad57dd8-833a-46bb-bc12-bd4c7c095371",
   "metadata": {},
   "outputs": [
    {
     "data": {
      "text/plain": [
       "[100, 'a', 2, 'b']"
      ]
     },
     "execution_count": 99,
     "metadata": {},
     "output_type": "execute_result"
    }
   ],
   "source": [
    "l1"
   ]
  },
  {
   "cell_type": "code",
   "execution_count": 101,
   "id": "19ec1634-e395-4494-b431-927673c54307",
   "metadata": {},
   "outputs": [],
   "source": [
    "l1.append(\"mahesh\")"
   ]
  },
  {
   "cell_type": "code",
   "execution_count": 103,
   "id": "df7142af-52d3-42a9-84a7-fb1930acc294",
   "metadata": {},
   "outputs": [
    {
     "data": {
      "text/plain": [
       "[100, 'a', 2, 'b', 'mahesh']"
      ]
     },
     "execution_count": 103,
     "metadata": {},
     "output_type": "execute_result"
    }
   ],
   "source": [
    "l1"
   ]
  },
  {
   "cell_type": "code",
   "execution_count": 107,
   "id": "e584ae1a-d453-4bdd-8f6a-c7ca1971a9c9",
   "metadata": {},
   "outputs": [
    {
     "data": {
      "text/plain": [
       "[100, 'a', 2, 'b']"
      ]
     },
     "execution_count": 107,
     "metadata": {},
     "output_type": "execute_result"
    }
   ],
   "source": [
    "l1.pop()\n",
    "l1"
   ]
  },
  {
   "cell_type": "code",
   "execution_count": 109,
   "id": "f8108523-f44b-40b1-894b-51cf6804f6a9",
   "metadata": {},
   "outputs": [
    {
     "data": {
      "text/plain": [
       "[100, 'mahesh', 'a', 2, 'b']"
      ]
     },
     "execution_count": 109,
     "metadata": {},
     "output_type": "execute_result"
    }
   ],
   "source": [
    "l1.insert(1,'mahesh')\n",
    "l1"
   ]
  },
  {
   "cell_type": "code",
   "execution_count": 117,
   "id": "8389d827-0c2a-497e-8bb5-9ae03778c45e",
   "metadata": {},
   "outputs": [],
   "source": [
    "l1=[\"mango\",\"banana\",\"apple\",\"orange\"]\n",
    "l1.sort()"
   ]
  },
  {
   "cell_type": "code",
   "execution_count": 119,
   "id": "31238f32-6336-4bb2-8e3c-2586af495c2c",
   "metadata": {},
   "outputs": [
    {
     "data": {
      "text/plain": [
       "['apple', 'banana', 'mango', 'orange']"
      ]
     },
     "execution_count": 119,
     "metadata": {},
     "output_type": "execute_result"
    }
   ],
   "source": [
    "l1"
   ]
  },
  {
   "cell_type": "code",
   "execution_count": 121,
   "id": "debd410d-d705-4876-a6cc-4bcd2e564b79",
   "metadata": {},
   "outputs": [],
   "source": [
    "num=[10,20,60,82,10,3,5,9,2,7]\n",
    "num.sort()"
   ]
  },
  {
   "cell_type": "code",
   "execution_count": 123,
   "id": "2392f82a-a0c5-4228-a832-419fbd7601d2",
   "metadata": {},
   "outputs": [
    {
     "data": {
      "text/plain": [
       "[2, 3, 5, 7, 9, 10, 10, 20, 60, 82]"
      ]
     },
     "execution_count": 123,
     "metadata": {},
     "output_type": "execute_result"
    }
   ],
   "source": [
    "num"
   ]
  },
  {
   "cell_type": "code",
   "execution_count": 125,
   "id": "ef8e55d0-d89c-42fe-8778-96528ffe83a3",
   "metadata": {},
   "outputs": [
    {
     "data": {
      "text/plain": [
       "{'apple': 20, 'banana': 40, 'mango': 50, 'orange': 25}"
      ]
     },
     "execution_count": 125,
     "metadata": {},
     "output_type": "execute_result"
    }
   ],
   "source": [
    "fruit={'apple':20,'banana':40,'mango':50,'orange':25}\n",
    "fruit"
   ]
  },
  {
   "cell_type": "code",
   "execution_count": 129,
   "id": "a5264dd5-c451-427c-8392-481fc833309a",
   "metadata": {},
   "outputs": [
    {
     "data": {
      "text/plain": [
       "dict_keys(['apple', 'banana', 'mango', 'orange'])"
      ]
     },
     "execution_count": 129,
     "metadata": {},
     "output_type": "execute_result"
    }
   ],
   "source": [
    "fruit.keys()"
   ]
  },
  {
   "cell_type": "code",
   "execution_count": 131,
   "id": "d1962d63-90f6-4d7f-9906-b8eb53449ed5",
   "metadata": {},
   "outputs": [
    {
     "data": {
      "text/plain": [
       "dict_values([20, 40, 50, 25])"
      ]
     },
     "execution_count": 131,
     "metadata": {},
     "output_type": "execute_result"
    }
   ],
   "source": [
    "fruit.values()"
   ]
  },
  {
   "cell_type": "code",
   "execution_count": 133,
   "id": "1b616234-7f2c-4016-9e52-e9f135ffd988",
   "metadata": {},
   "outputs": [
    {
     "data": {
      "text/plain": [
       "{'apple': 20, 'banana': 40, 'mango': 100, 'orange': 25}"
      ]
     },
     "execution_count": 133,
     "metadata": {},
     "output_type": "execute_result"
    }
   ],
   "source": [
    "fruit['mango']=100\n",
    "fruit"
   ]
  },
  {
   "cell_type": "code",
   "execution_count": 135,
   "id": "a91d6338-e7ca-4a45-bf51-ddb7b982bf28",
   "metadata": {},
   "outputs": [
    {
     "data": {
      "text/plain": [
       "{'apple': 120, 'banana': 40, 'mango': 100, 'orange': 25}"
      ]
     },
     "execution_count": 135,
     "metadata": {},
     "output_type": "execute_result"
    }
   ],
   "source": [
    "fruit['apple']=120\n",
    "fruit"
   ]
  },
  {
   "cell_type": "code",
   "execution_count": 137,
   "id": "a2c5afe1-84b6-4655-a3ec-cf83cf9d4f7e",
   "metadata": {},
   "outputs": [
    {
     "data": {
      "text/plain": [
       "{'apple': 20,\n",
       " 'banana': 40,\n",
       " 'mango': 50,\n",
       " 'orange': 25,\n",
       " 'kevie': 200,\n",
       " 'dragon': 400}"
      ]
     },
     "execution_count": 137,
     "metadata": {},
     "output_type": "execute_result"
    }
   ],
   "source": [
    "fruit1={'apple':20,'banana':40,'mango':50,'orange':25}\n",
    "fruit2={'kevie':200,'dragon':400}\n",
    "fruit1.update(fruit2)\n",
    "fruit1"
   ]
  },
  {
   "cell_type": "code",
   "execution_count": 139,
   "id": "75ea195c-3441-4eba-821d-3e43b10e4525",
   "metadata": {},
   "outputs": [
    {
     "data": {
      "text/plain": [
       "{'kevie': 200,\n",
       " 'dragon': 400,\n",
       " 'apple': 20,\n",
       " 'banana': 40,\n",
       " 'mango': 50,\n",
       " 'orange': 25}"
      ]
     },
     "execution_count": 139,
     "metadata": {},
     "output_type": "execute_result"
    }
   ],
   "source": [
    "fruit2.update(fruit1)\n",
    "fruit2"
   ]
  },
  {
   "cell_type": "code",
   "execution_count": null,
   "id": "975252e2-b916-4463-8f9c-4314f2315a43",
   "metadata": {},
   "outputs": [],
   "source": [
    "fruit1={'apple':20,'banana':40,'mango':50,'orange':25}"
   ]
  },
  {
   "cell_type": "code",
   "execution_count": 147,
   "id": "493f848f-e290-49ee-996c-453bfa565539",
   "metadata": {},
   "outputs": [
    {
     "data": {
      "text/plain": [
       "{'apple': 20, 'mango': 50, 'kevie': 200, 'dragon': 400}"
      ]
     },
     "execution_count": 147,
     "metadata": {},
     "output_type": "execute_result"
    }
   ],
   "source": [
    "fruit1.pop('banana')\n",
    "fruit1"
   ]
  },
  {
   "cell_type": "code",
   "execution_count": 151,
   "id": "6fdc4d5a-e381-4848-b2c2-946a02b1c4de",
   "metadata": {},
   "outputs": [],
   "source": [
    "fruits=['apple','banana','mango']\n"
   ]
  },
  {
   "cell_type": "code",
   "execution_count": 153,
   "id": "05f1186a-d4c7-46ae-80dc-a739defe0495",
   "metadata": {},
   "outputs": [
    {
     "name": "stdout",
     "output_type": "stream",
     "text": [
      "apple\n",
      "banana\n",
      "mango\n"
     ]
    }
   ],
   "source": [
    "for i in fruits:\n",
    "    print(i)"
   ]
  },
  {
   "cell_type": "code",
   "execution_count": 155,
   "id": "d0c3478f-96fd-4704-ae94-d37e0bd27cf6",
   "metadata": {},
   "outputs": [
    {
     "data": {
      "text/plain": [
       "['apple', 'banana', 'mango']"
      ]
     },
     "execution_count": 155,
     "metadata": {},
     "output_type": "execute_result"
    }
   ],
   "source": [
    "fruits"
   ]
  },
  {
   "cell_type": "code",
   "execution_count": 157,
   "id": "8d1e9295-69f2-4de6-9782-0ab56834d4cf",
   "metadata": {},
   "outputs": [],
   "source": [
    "colour=['blue','green','red']\n",
    "item=['book','car','cycle']"
   ]
  },
  {
   "cell_type": "code",
   "execution_count": 159,
   "id": "c9764111-caa2-4965-8af6-1b3f80e5c5d5",
   "metadata": {},
   "outputs": [
    {
     "name": "stdout",
     "output_type": "stream",
     "text": [
      "blue book\n",
      "blue car\n",
      "blue cycle\n",
      "green book\n",
      "green car\n",
      "green cycle\n",
      "red book\n",
      "red car\n",
      "red cycle\n"
     ]
    }
   ],
   "source": [
    "for i in colour:\n",
    "    for j in item:\n",
    "        print(i,j)"
   ]
  },
  {
   "cell_type": "code",
   "execution_count": null,
   "id": "242c3536-7f56-45c2-98c4-2c2a6d4a8a3f",
   "metadata": {},
   "outputs": [],
   "source": []
  },
  {
   "cell_type": "code",
   "execution_count": 164,
   "id": "7b43066f-4f52-4aa6-8495-7dedc9c6194d",
   "metadata": {},
   "outputs": [],
   "source": [
    "def hello():\n",
    "    print('hello world')"
   ]
  },
  {
   "cell_type": "code",
   "execution_count": 166,
   "id": "35c44b49-23fb-4793-adff-29a45e7591d8",
   "metadata": {},
   "outputs": [
    {
     "name": "stdout",
     "output_type": "stream",
     "text": [
      "hello world\n"
     ]
    }
   ],
   "source": [
    "hello()"
   ]
  },
  {
   "cell_type": "code",
   "execution_count": 168,
   "id": "c0ac0fee-3322-4093-a5c9-8a5c821b2ade",
   "metadata": {},
   "outputs": [],
   "source": [
    "def mahesh():\n",
    "    print('i love you')"
   ]
  },
  {
   "cell_type": "code",
   "execution_count": 172,
   "id": "8d50b904-eba0-4eee-a9bf-11ff09cce62a",
   "metadata": {},
   "outputs": [
    {
     "name": "stdout",
     "output_type": "stream",
     "text": [
      "i love you\n"
     ]
    }
   ],
   "source": [
    "mahesh()"
   ]
  },
  {
   "cell_type": "code",
   "execution_count": 176,
   "id": "03de67ba-c32a-4673-9483-5ae43b06a3e0",
   "metadata": {},
   "outputs": [],
   "source": [
    "def add10(x):\n",
    "    return x+20"
   ]
  },
  {
   "cell_type": "code",
   "execution_count": 180,
   "id": "06b5ca28-d779-4afd-a456-f7584de6e44d",
   "metadata": {},
   "outputs": [
    {
     "data": {
      "text/plain": [
       "25"
      ]
     },
     "execution_count": 180,
     "metadata": {},
     "output_type": "execute_result"
    }
   ],
   "source": [
    "add10(5)"
   ]
  },
  {
   "cell_type": "code",
   "execution_count": 182,
   "id": "5d1c1209-195d-43fd-9767-060bd3c0edd9",
   "metadata": {},
   "outputs": [],
   "source": [
    "def add(u):\n",
    "    return u+50"
   ]
  },
  {
   "cell_type": "code",
   "execution_count": 184,
   "id": "f56b268f-1abb-4a00-a6a0-f45788208be7",
   "metadata": {},
   "outputs": [
    {
     "data": {
      "text/plain": [
       "101"
      ]
     },
     "execution_count": 184,
     "metadata": {},
     "output_type": "execute_result"
    }
   ],
   "source": [
    "add(51)"
   ]
  },
  {
   "cell_type": "code",
   "execution_count": 188,
   "id": "53d8a012-db1a-460d-8bb8-10dde4754c1e",
   "metadata": {},
   "outputs": [
    {
     "name": "stdin",
     "output_type": "stream",
     "text": [
      "enter the number 21\n"
     ]
    },
    {
     "name": "stdout",
     "output_type": "stream",
     "text": [
      "odd number\n"
     ]
    }
   ],
   "source": [
    "num=eval(input(\"enter the number\"))\n",
    "if num%2==0:\n",
    "    print(f\"even number\")\n",
    "else:\n",
    "    print(f\"odd number\")"
   ]
  },
  {
   "cell_type": "code",
   "execution_count": 190,
   "id": "7a56e738-0d53-493a-b89e-f0a6834e5b4d",
   "metadata": {},
   "outputs": [],
   "source": [
    "a=10\n",
    "b=20\n"
   ]
  },
  {
   "cell_type": "code",
   "execution_count": 192,
   "id": "70e49efd-02b3-449d-a7ed-d41127bc31a9",
   "metadata": {},
   "outputs": [
    {
     "name": "stdout",
     "output_type": "stream",
     "text": [
      "b is greater than a\n"
     ]
    }
   ],
   "source": [
    "if b>a:\n",
    "    print(f\"b is greater than a\")"
   ]
  },
  {
   "cell_type": "code",
   "execution_count": 199,
   "id": "aba3332b-794e-402a-a8a8-653a20e39c2b",
   "metadata": {},
   "outputs": [
    {
     "name": "stdout",
     "output_type": "stream",
     "text": [
      "a is greater than b\n"
     ]
    }
   ],
   "source": [
    "if b<a:\n",
    "    print(f\"b is greater than a\")\n",
    "else:\n",
    "    print(f\"a is greater than b\")"
   ]
  },
  {
   "cell_type": "code",
   "execution_count": 203,
   "id": "008f5627-9e6d-4975-a57d-7dc7ab115c4b",
   "metadata": {},
   "outputs": [
    {
     "name": "stdout",
     "output_type": "stream",
     "text": [
      "c is greatest\n"
     ]
    }
   ],
   "source": [
    "a=10\n",
    "b=20\n",
    "c=30\n",
    "if(a>b)&(a>c):\n",
    "    print(f\"a is greatest\")\n",
    "elif (b>a) & (b>c):\n",
    "    print(f\"b is greatest\")\n",
    "else:\n",
    "    print(f\"c is greatest\")"
   ]
  },
  {
   "cell_type": "code",
   "execution_count": 205,
   "id": "fe4f206b-b7a0-4a53-bfeb-02e5acd7e4cb",
   "metadata": {},
   "outputs": [
    {
     "name": "stdout",
     "output_type": "stream",
     "text": [
      "1\n",
      "2\n",
      "3\n",
      "4\n",
      "5\n",
      "6\n",
      "7\n",
      "8\n",
      "9\n",
      "10\n"
     ]
    }
   ],
   "source": [
    "i=1\n",
    "while i<=10:\n",
    "    print(i)\n",
    "    i=i+1"
   ]
  },
  {
   "cell_type": "code",
   "execution_count": 209,
   "id": "111417c6-369f-4939-859e-eff622760cf0",
   "metadata": {},
   "outputs": [
    {
     "name": "stdout",
     "output_type": "stream",
     "text": [
      "2\n",
      "4\n",
      "6\n",
      "8\n",
      "10\n",
      "12\n",
      "14\n",
      "16\n",
      "18\n",
      "20\n"
     ]
    }
   ],
   "source": [
    "i=2\n",
    "while i<=20:\n",
    "    print(i)\n",
    "    i=i+2\n",
    "    "
   ]
  },
  {
   "cell_type": "code",
   "execution_count": 211,
   "id": "335edb26-d82d-4818-9f8c-44810149c068",
   "metadata": {},
   "outputs": [
    {
     "name": "stdout",
     "output_type": "stream",
     "text": [
      "2 * 1 = 2\n",
      "2 * 2 = 4\n",
      "2 * 3 = 6\n",
      "2 * 4 = 8\n",
      "2 * 5 = 10\n",
      "2 * 6 = 12\n",
      "2 * 7 = 14\n",
      "2 * 8 = 16\n",
      "2 * 9 = 18\n",
      "2 * 10 = 20\n"
     ]
    }
   ],
   "source": [
    "i=1\n",
    "n=2\n",
    "while i<=10:\n",
    "    print(n,\"*\",i,'=',n*i)\n",
    "    i=i+1"
   ]
  },
  {
   "cell_type": "code",
   "execution_count": 213,
   "id": "cfea9092-a270-463f-9268-e3a39511fc7e",
   "metadata": {},
   "outputs": [
    {
     "data": {
      "text/plain": [
       "True"
      ]
     },
     "execution_count": 213,
     "metadata": {},
     "output_type": "execute_result"
    }
   ],
   "source": [
    "a1=10\n",
    "b1=20\n",
    "a1!=b1"
   ]
  },
  {
   "cell_type": "code",
   "execution_count": null,
   "id": "296e342e-17b4-45d6-b507-3c9c3d2d8004",
   "metadata": {},
   "outputs": [],
   "source": []
  }
 ],
 "metadata": {
  "kernelspec": {
   "display_name": "Python 3 (ipykernel)",
   "language": "python",
   "name": "python3"
  },
  "language_info": {
   "codemirror_mode": {
    "name": "ipython",
    "version": 3
   },
   "file_extension": ".py",
   "mimetype": "text/x-python",
   "name": "python",
   "nbconvert_exporter": "python",
   "pygments_lexer": "ipython3",
   "version": "3.12.4"
  }
 },
 "nbformat": 4,
 "nbformat_minor": 5
}
