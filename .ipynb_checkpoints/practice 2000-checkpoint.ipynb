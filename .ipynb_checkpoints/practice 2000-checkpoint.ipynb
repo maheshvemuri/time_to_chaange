{
 "cells": [
  {
   "cell_type": "code",
   "execution_count": 1,
   "id": "79babb12-3f3f-448a-ac26-e32750bfcf68",
   "metadata": {},
   "outputs": [
    {
     "name": "stdin",
     "output_type": "stream",
     "text": [
      "enter the number1 60\n",
      "enter the number2 40\n"
     ]
    },
    {
     "name": "stdout",
     "output_type": "stream",
     "text": [
      "the addition of 60 and 40 is 100\n",
      "the subtraction of 60 and 40 is 20\n",
      "the multiplition of 60 and 40 is 2400\n",
      "the division of 60 and 40 is 1.5\n"
     ]
    }
   ],
   "source": [
    "num1=eval(input('enter the number1'))\n",
    "num2=eval(input('enter the number2'))\n",
    "add=num1+num2\n",
    "sub=num1-num2\n",
    "mul=num1*num2\n",
    "div=num1/num2\n",
    "print(f'the addition of {num1} and {num2} is {add}')\n",
    "print(f'the subtraction of {num1} and {num2} is {sub}')\n",
    "print(f'the multiplition of {num1} and {num2} is {mul}')\n",
    "print(f'the division of {num1} and {num2} is {div}')"
   ]
  },
  {
   "cell_type": "code",
   "execution_count": 3,
   "id": "9d29f8df-b847-4de8-b04a-88be072a4fda",
   "metadata": {},
   "outputs": [
    {
     "name": "stdin",
     "output_type": "stream",
     "text": [
      "enter the number1 20\n",
      "emter the number2 30\n",
      "enter the number3 10\n"
     ]
    },
    {
     "name": "stdout",
     "output_type": "stream",
     "text": [
      "The average  is 20.0\n"
     ]
    }
   ],
   "source": [
    "n1=eval(input('enter the number1'))\n",
    "n2=eval(input('emter the number2'))\n",
    "n3=eval(input('enter the number3'))\n",
    "avg=(n1+n2+n3)/3\n",
    "print(f'The average  is {avg}')"
   ]
  },
  {
   "cell_type": "code",
   "execution_count": 7,
   "id": "88a7fb1a-3f88-4c22-be6c-8e050d893209",
   "metadata": {},
   "outputs": [
    {
     "name": "stdin",
     "output_type": "stream",
     "text": [
      "enter the number1 20\n",
      "emter the number2 30\n",
      "enter the number3 10\n"
     ]
    },
    {
     "name": "stdout",
     "output_type": "stream",
     "text": [
      "The average  is 20.0\n"
     ]
    }
   ],
   "source": [
    "n1=eval(input('enter the number1'))\n",
    "n2=eval(input('emter the number2'))\n",
    "n3=eval(input('enter the number3'))\n",
    "avg=round((n1+n2+n3)/3,2)\n",
    "print(f'The average  is {avg}')"
   ]
  },
  {
   "cell_type": "code",
   "execution_count": 13,
   "id": "8abdd111-33e8-4431-848c-2ef3c74708f3",
   "metadata": {},
   "outputs": [
    {
     "name": "stdin",
     "output_type": "stream",
     "text": [
      "enter the bill 1000\n",
      "enter the tip percentage 10\n"
     ]
    },
    {
     "name": "stdout",
     "output_type": "stream",
     "text": [
      "1100.0\n"
     ]
    }
   ],
   "source": [
    "bill=eval(input('enter the bill'))\n",
    "tip_percentage=eval(input('enter the tip percentage'))\n",
    "tip_amount=tip_percentage*bill/100\n",
    "total_bill=bill+tip_amount\n",
    "print(total_bill)"
   ]
  },
  {
   "cell_type": "code",
   "execution_count": 17,
   "id": "62d791a6-c90a-4e08-b4b3-99e24127b402",
   "metadata": {},
   "outputs": [
    {
     "name": "stdin",
     "output_type": "stream",
     "text": [
      "enter the weight 100\n",
      "enter the pounds 2.2\n"
     ]
    },
    {
     "name": "stdout",
     "output_type": "stream",
     "text": [
      "220.0\n"
     ]
    }
   ],
   "source": [
    "weight=eval(input('enter the weight'))\n",
    "pounds=eval(input('enter the pounds'))\n",
    "weight_pounds=round(weight*pounds,2)\n",
    "print(weight_pounds)"
   ]
  },
  {
   "cell_type": "code",
   "execution_count": 19,
   "id": "43464469-90f7-4e91-affb-1df047cf44a0",
   "metadata": {},
   "outputs": [
    {
     "data": {
      "text/plain": [
       "10.23"
      ]
     },
     "execution_count": 19,
     "metadata": {},
     "output_type": "execute_result"
    }
   ],
   "source": [
    "val=10.235\n",
    "round(val,2)"
   ]
  },
  {
   "cell_type": "code",
   "execution_count": 27,
   "id": "a152bf20-d95b-455e-9206-b7408c533162",
   "metadata": {},
   "outputs": [
    {
     "name": "stdin",
     "output_type": "stream",
     "text": [
      "enter the radius 50\n"
     ]
    },
    {
     "name": "stdout",
     "output_type": "stream",
     "text": [
      "7853.98\n"
     ]
    }
   ],
   "source": [
    "import math\n",
    "pi=math.pi\n",
    "radius=eval(input('enter the radius'))\n",
    "area=pi*radius*radius\n",
    "area1=round(area,2)\n",
    "print(area1)"
   ]
  },
  {
   "cell_type": "code",
   "execution_count": 29,
   "id": "fc709572-d8fc-4226-93b6-9f727896e5d9",
   "metadata": {},
   "outputs": [
    {
     "name": "stdin",
     "output_type": "stream",
     "text": [
      "enter the breadth 10\n",
      "enter the height 5\n"
     ]
    },
    {
     "name": "stdout",
     "output_type": "stream",
     "text": [
      "25.0\n"
     ]
    }
   ],
   "source": [
    "breadth=eval(input('enter the breadth'))\n",
    "height=eval(input('enter the height'))\n",
    "area_triangle=0.5*breadth*height\n",
    "print(area_triangle)"
   ]
  },
  {
   "cell_type": "code",
   "execution_count": 31,
   "id": "56e8b0ad-26f9-47de-97ae-d814b83d75cf",
   "metadata": {},
   "outputs": [
    {
     "name": "stdout",
     "output_type": "stream",
     "text": [
      "the arae of triange is 25.0\n"
     ]
    }
   ],
   "source": [
    "print(f'the arae of triange is {area_triangle}')"
   ]
  },
  {
   "cell_type": "code",
   "execution_count": 3,
   "id": "d5488a05-5dcd-4ccc-9c32-26720b23b8d5",
   "metadata": {},
   "outputs": [
    {
     "name": "stdin",
     "output_type": "stream",
     "text": [
      "enter the number 25\n"
     ]
    },
    {
     "name": "stdout",
     "output_type": "stream",
     "text": [
      "odd number\n"
     ]
    }
   ],
   "source": [
    "num=eval(input(\"enter the number\"))\n",
    "if num%2==0:\n",
    "    print('even number')\n",
    "else:\n",
    "    print('odd number')"
   ]
  },
  {
   "cell_type": "code",
   "execution_count": 11,
   "id": "02c065c0-eb20-43e8-bf3d-589d0ae3efe1",
   "metadata": {},
   "outputs": [
    {
     "name": "stdout",
     "output_type": "stream",
     "text": [
      " the 81 odd\n"
     ]
    }
   ],
   "source": [
    "import random\n",
    "num=random.randint(10,100)\n",
    "if num%2==0:\n",
    "    print(f' the {num} even number')\n",
    "else:\n",
    "    print(f' the {num} odd')"
   ]
  },
  {
   "cell_type": "code",
   "execution_count": 23,
   "id": "1e8e7ffe-412b-4fec-8396-45db435d986d",
   "metadata": {},
   "outputs": [
    {
     "name": "stdout",
     "output_type": "stream",
     "text": [
      "35\n"
     ]
    },
    {
     "name": "stdin",
     "output_type": "stream",
     "text": [
      "enter the number 32\n"
     ]
    },
    {
     "name": "stdout",
     "output_type": "stream",
     "text": [
      "you loss\n"
     ]
    }
   ],
   "source": [
    "import random\n",
    "num1=random.randint(1,50)\n",
    "print(num1)\n",
    "num2=eval(input('enter the number'))\n",
    "if num1==num2:\n",
    "    print('you win')\n",
    "\n",
    "else:\n",
    "    print('you loss')"
   ]
  },
  {
   "cell_type": "code",
   "execution_count": 1,
   "id": "30bda410-971f-4f1e-9566-5aeb01083986",
   "metadata": {},
   "outputs": [
    {
     "name": "stdin",
     "output_type": "stream",
     "text": [
      "how much distance need to travel 30\n",
      "enter the charge per km 25\n"
     ]
    },
    {
     "name": "stdout",
     "output_type": "stream",
     "text": [
      "total charge :750\n"
     ]
    }
   ],
   "source": [
    "dist=eval(input('how much distance need to travel'))\n",
    "if dist > 25:\n",
    "    charge=eval(input('enter the charge per km'))\n",
    "    print(f'total charge :{dist*charge}')\n",
    "else:\n",
    "    print(\"its free ride\")\n",
    "                "
   ]
  },
  {
   "cell_type": "code",
   "execution_count": 5,
   "id": "3e0f14f7-462b-4d15-93fd-1247272e2b51",
   "metadata": {},
   "outputs": [
    {
     "name": "stdin",
     "output_type": "stream",
     "text": [
      "how much distance you need to travel 23\n"
     ]
    },
    {
     "name": "stdout",
     "output_type": "stream",
     "text": [
      "free ride\n"
     ]
    }
   ],
   "source": [
    "dist=eval(input('how much distance you need to travel'))\n",
    "if dist > 25:\n",
    "    charge=eval(input('enter the charge per km'))\n",
    "    print(f'the total charge {dist*charge}')\n",
    "    \n",
    "else:\n",
    "    print('free ride')"
   ]
  },
  {
   "cell_type": "code",
   "execution_count": 9,
   "id": "3fb249cf-9fd0-4f5b-9093-e1ac535522b3",
   "metadata": {},
   "outputs": [
    {
     "name": "stdin",
     "output_type": "stream",
     "text": [
      "enter the number 5\n"
     ]
    },
    {
     "name": "stdout",
     "output_type": "stream",
     "text": [
      "bye\n"
     ]
    }
   ],
   "source": [
    "num=eval(input('enter the number'))\n",
    "if num==1:\n",
    "    print(f'{num} is mach')\n",
    "elif num==2:\n",
    "    print(f'{num} is mach')\n",
    "elif num==3:\n",
    "    print(f'{num} is mach')\n",
    "elif num==4:\n",
    "    print(f'{num} is mach')\n",
    "else:\n",
    "    print('bye')"
   ]
  },
  {
   "cell_type": "code",
   "execution_count": 13,
   "id": "23c17160-0438-491f-9b5a-0c913466fb26",
   "metadata": {},
   "outputs": [
    {
     "name": "stdin",
     "output_type": "stream",
     "text": [
      "enter the percentage 95\n"
     ]
    },
    {
     "name": "stdout",
     "output_type": "stream",
     "text": [
      "A grade\n"
     ]
    }
   ],
   "source": [
    "per=eval(input('enter the percentage'))\n",
    "if per>90:\n",
    "    print('A grade')\n",
    "elif per>70 and per<90:\n",
    "    print('b grade')\n",
    "elif per>50 and per<70:\n",
    "    print('c grade')\n",
    "elif per>35 and per<50:\n",
    "    print('d grade')\n",
    "\n",
    "else: \n",
    "    print('fail')"
   ]
  },
  {
   "cell_type": "code",
   "execution_count": 17,
   "id": "7ff99c92-4805-4dd6-9bf1-0b75d017d81f",
   "metadata": {},
   "outputs": [
    {
     "name": "stdin",
     "output_type": "stream",
     "text": [
      "enter the age 65\n"
     ]
    },
    {
     "name": "stdout",
     "output_type": "stream",
     "text": [
      "senior citizen\n"
     ]
    }
   ],
   "source": [
    "age=eval(input('enter the age'))\n",
    "if age>=90:\n",
    "    print('lucky man')\n",
    "elif age>70 and age<90:\n",
    "    print('old man')\n",
    "elif age>50 and age<70:\n",
    "    print('senior citizen')\n",
    "elif age>35 and age<50:\n",
    "    print('middle aged')\n",
    "elif age>20 and age<35:\n",
    "    print('young')\n",
    "elif age>13 and age<20:\n",
    "    print('teen')\n",
    "else:\n",
    "    print('kid')"
   ]
  },
  {
   "cell_type": "code",
   "execution_count": 21,
   "id": "1c669cd2-af8b-4e13-a9f3-a4416225bbdb",
   "metadata": {},
   "outputs": [
    {
     "name": "stdin",
     "output_type": "stream",
     "text": [
      "enter the number 60\n",
      "enter the number 30\n"
     ]
    },
    {
     "name": "stdout",
     "output_type": "stream",
     "text": [
      "enter the operation 1 is addition\n",
      "enter the operation 2 is subtraction\n",
      "enter the opration 3 is multiplication\n",
      "enter the operation 4 is division\n"
     ]
    },
    {
     "name": "stdin",
     "output_type": "stream",
     "text": [
      "enter the operation value 1to4 4\n"
     ]
    },
    {
     "name": "stdout",
     "output_type": "stream",
     "text": [
      "the division is 2.0\n"
     ]
    }
   ],
   "source": [
    "num1=eval(input('enter the number'))\n",
    "num2=eval(input('enter the number'))\n",
    "\n",
    "print('enter the operation 1 is addition')\n",
    "print('enter the operation 2 is subtraction')\n",
    "print('enter the opration 3 is multiplication')\n",
    "print('enter the operation 4 is division')\n",
    "operation=eval(input('enter the operation value 1to4'))\n",
    "if operation==1:\n",
    "    add=num1+num2\n",
    "    print(f'the sum is {add}')\n",
    "elif operation==2:\n",
    "    sub=num1-num2\n",
    "    print(f'the subtraction is {sub}')\n",
    "elif operation==3:\n",
    "    mul=num1*num2\n",
    "    print(f'the multiplication is {mul}')\n",
    "elif operation==4:\n",
    "    div=num1/num2\n",
    "    print(f'the division is {div}')\n",
    "else:\n",
    "    print('not valid')\n"
   ]
  },
  {
   "cell_type": "code",
   "execution_count": 45,
   "id": "b4bc8e31-16df-41f8-9aa2-767dd135591b",
   "metadata": {},
   "outputs": [
    {
     "name": "stdin",
     "output_type": "stream",
     "text": [
      "enter the gender 'female'\n",
      "enter the age 52\n"
     ]
    },
    {
     "name": "stdout",
     "output_type": "stream",
     "text": [
      "middleaged women\n"
     ]
    }
   ],
   "source": [
    "gender=eval(input('enter the gender'))\n",
    "if gender== 'male':\n",
    "    age=eval(input('enter the age'))\n",
    "    if age>30:\n",
    "        print('middle aged man')\n",
    "    else:\n",
    "        print('boy')\n",
    "elif gender=='female':\n",
    "    age=eval(input('enter the age'))\n",
    "    if age>=30:\n",
    "        print('middleaged women')\n",
    "    else:\n",
    "        print('girl')\n",
    "else:\n",
    "    print('valid gender')\n"
   ]
  },
  {
   "cell_type": "code",
   "execution_count": 71,
   "id": "3bf3e1df-7e39-42cd-8305-1a6050f8c3a2",
   "metadata": {},
   "outputs": [
    {
     "name": "stdin",
     "output_type": "stream",
     "text": [
      "enter the gender 'female'\n"
     ]
    },
    {
     "name": "stdout",
     "output_type": "stream",
     "text": [
      "enter the yes if have id card\n",
      "enter the no if dont have id card\n"
     ]
    },
    {
     "name": "stdin",
     "output_type": "stream",
     "text": [
      "enter the yes or no 'no'\n",
      "how much distance need to travel 52\n",
      "enter the charge per km 32\n"
     ]
    },
    {
     "name": "stdout",
     "output_type": "stream",
     "text": [
      " total charge is 1664\n"
     ]
    }
   ],
   "source": [
    "gender = eval(input('enter the gender'))\n",
    "if gender=='female':\n",
    "    print('enter the yes if have id card')\n",
    "    print('enter the no if dont have id card')\n",
    "    id=eval(input('enter the yes or no'))\n",
    "    if id== 'yes':\n",
    "        print('enjoy the free ride')\n",
    "    else:\n",
    "        dis=eval(input('how much distance need to travel'))\n",
    "        charge=eval(input('enter the charge per km'))\n",
    "        print(f' total charge is {dis*charge}')\n",
    "elif gender =='male':\n",
    "    dis=eval(input('how much distance need to travel'))\n",
    "    charge=eval(input('enter the chare per km'))\n",
    "    print(f'total charge is {dis*charge}')\n",
    "else:\n",
    "    print('vaild gender')\n"
   ]
  },
  {
   "cell_type": "code",
   "execution_count": 79,
   "id": "d9ed6720-1d94-4701-b9d4-df203429df1e",
   "metadata": {},
   "outputs": [
    {
     "name": "stdout",
     "output_type": "stream",
     "text": [
      "helloo\n"
     ]
    }
   ],
   "source": [
    "try:\n",
    "    a=10\n",
    "    b=0\n",
    "    a/b\n",
    "    \n",
    "except:\n",
    "    print('helloo')\n"
   ]
  },
  {
   "cell_type": "code",
   "execution_count": 91,
   "id": "e41b4765-b3bd-4c19-8db9-f7768e0f5c25",
   "metadata": {},
   "outputs": [
    {
     "name": "stdout",
     "output_type": "stream",
     "text": [
      "hai\n",
      "mahesh\n"
     ]
    },
    {
     "name": "stdin",
     "output_type": "stream",
     "text": [
      "enter the number1 20\n",
      "enter the number2 30\n"
     ]
    },
    {
     "name": "stdout",
     "output_type": "stream",
     "text": [
      "the addition of 20 and 30 is 50\n",
      "bye\n"
     ]
    }
   ],
   "source": [
    "print('hai')\n",
    "print('mahesh')\n",
    "\n",
    "try:\n",
    "    num1=eval(input('enter the number1'))\n",
    "    num2=eval(input('enter the number2'))\n",
    "    add=num1+num2\n",
    "    print(f'the addition of {num1} and {num2} is {add}')\n",
    "except:\n",
    "    print('good')\n",
    "print('bye')"
   ]
  },
  {
   "cell_type": "code",
   "execution_count": 101,
   "id": "c651a17c-6035-45f5-abf9-2645a2687253",
   "metadata": {},
   "outputs": [
    {
     "name": "stdout",
     "output_type": "stream",
     "text": [
      " 48 even number\n"
     ]
    }
   ],
   "source": [
    "import random\n",
    "try:\n",
    "    num=random.randint(10,50)\n",
    "    if num%2==0:\n",
    "        print(f' {num} even number')\n",
    "    else:\n",
    "        print(f' {num} odd number')\n",
    "except exception as e:\n",
    "    print(e)\n"
   ]
  },
  {
   "cell_type": "code",
   "execution_count": 107,
   "id": "ddad8a42-d230-4cc4-9801-4c93c6d15df2",
   "metadata": {},
   "outputs": [
    {
     "name": "stdin",
     "output_type": "stream",
     "text": [
      "enter the salary 30000\n",
      "enter the tax per 20\n"
     ]
    },
    {
     "name": "stdout",
     "output_type": "stream",
     "text": [
      "the amount of tax pay 6000.0\n"
     ]
    }
   ],
   "source": [
    "salary=eval(input('enter the salary'))\n",
    "tax_per=eval(input('enter the tax per'))\n",
    "tax_amount=salary*tax_per/100\n",
    "print(f'the amount of tax pay {tax_amount}')"
   ]
  },
  {
   "cell_type": "code",
   "execution_count": 109,
   "id": "235529d2-4541-4238-9f66-a7661804bc5d",
   "metadata": {},
   "outputs": [],
   "source": [
    "def mahesh():\n",
    "    num1=10\n",
    "    num2=30\n",
    "    add=num1+num2\n",
    "    print(add)"
   ]
  },
  {
   "cell_type": "code",
   "execution_count": 113,
   "id": "cf0f6dea-22d6-464d-a8b3-3d986e2bad5f",
   "metadata": {},
   "outputs": [
    {
     "name": "stdout",
     "output_type": "stream",
     "text": [
      "40\n"
     ]
    }
   ],
   "source": [
    "mahesh()\n"
   ]
  },
  {
   "cell_type": "code",
   "execution_count": 115,
   "id": "beaf351a-5f12-46cc-b763-1dab0f95b4b6",
   "metadata": {},
   "outputs": [],
   "source": [
    "def maths():\n",
    "    a=10\n",
    "    b=20\n",
    "    mul=a*b\n",
    "    print(mul)"
   ]
  },
  {
   "cell_type": "code",
   "execution_count": 117,
   "id": "7d147386-2fcf-456d-8e70-ae81c3e1e6d2",
   "metadata": {},
   "outputs": [
    {
     "name": "stdout",
     "output_type": "stream",
     "text": [
      "200\n"
     ]
    }
   ],
   "source": [
    "maths()"
   ]
  },
  {
   "cell_type": "code",
   "execution_count": 7,
   "id": "0b4046db-b8f3-4502-8c7e-55f03b4be889",
   "metadata": {},
   "outputs": [
    {
     "name": "stdin",
     "output_type": "stream",
     "text": [
      " 6\n"
     ]
    }
   ],
   "source": [
    "n = int(input())\n",
    "if n % 2!=0:\n",
    "    print(\"wired\")\n",
    "elif n%2==0:\n",
    "    if 2 <= n <= 5:\n",
    "         print(\"not wired\")\n",
    "elif 6 <= n <= 20:\n",
    "     print(\"wired\")\n",
    "elif n>20:\n",
    "    print(\"not wired\")          "
   ]
  },
  {
   "cell_type": "code",
   "execution_count": 13,
   "id": "4fecb4d0-fc6c-4d92-9ab5-850513ac109b",
   "metadata": {},
   "outputs": [
    {
     "name": "stdin",
     "output_type": "stream",
     "text": [
      "enter the number 20\n",
      "enter the number 30\n",
      "enter the number 10\n"
     ]
    },
    {
     "name": "stdout",
     "output_type": "stream",
     "text": [
      "20.0\n"
     ]
    }
   ],
   "source": [
    "def average():\n",
    "    num1=eval(input('enter the number'))\n",
    "    num2=eval(input('enter the number'))\n",
    "    num3=eval(input('enter the number'))\n",
    "    avg=(num1+num2+num3)/3\n",
    "    print(avg)\n",
    "average()"
   ]
  },
  {
   "cell_type": "code",
   "execution_count": 17,
   "id": "d61be847-6ba7-4c91-9b15-fab87f766b8b",
   "metadata": {},
   "outputs": [
    {
     "name": "stdin",
     "output_type": "stream",
     "text": [
      "enter the bill 1000\n",
      "enter the tip percentage 10\n"
     ]
    },
    {
     "name": "stdout",
     "output_type": "stream",
     "text": [
      "1100.0\n"
     ]
    }
   ],
   "source": [
    "def bill():\n",
    "    bill=eval(input('enter the bill'))\n",
    "    tip_per=eval(input('enter the tip percentage'))\n",
    "    tip_amount=(bill*tip_per)/100\n",
    "    total_bill=tip_amount+bill\n",
    "    print(total_bill)\n",
    "bill()"
   ]
  },
  {
   "cell_type": "code",
   "execution_count": 23,
   "id": "e0ac59c1-c7ce-475b-865e-8b778c9f1861",
   "metadata": {},
   "outputs": [
    {
     "name": "stdin",
     "output_type": "stream",
     "text": [
      "enter the radius 20\n"
     ]
    },
    {
     "name": "stdout",
     "output_type": "stream",
     "text": [
      "1256.6370614359173\n"
     ]
    }
   ],
   "source": [
    "import math\n",
    "pi=math.pi\n",
    "def radius():\n",
    "    radius=eval(input('enter the radius'))\n",
    "    area_of_circle=pi*radius*radius\n",
    "    print(area_of_circle)\n",
    "radius()"
   ]
  },
  {
   "cell_type": "code",
   "execution_count": 27,
   "id": "d52bc6fb-14cf-4652-b3a8-07b1f0c5cb1c",
   "metadata": {},
   "outputs": [
    {
     "name": "stdin",
     "output_type": "stream",
     "text": [
      "enter the breadth 10\n",
      "enter the height 15\n"
     ]
    },
    {
     "name": "stdout",
     "output_type": "stream",
     "text": [
      "75.0\n"
     ]
    }
   ],
   "source": [
    "def area_of_triangle():\n",
    "    breadth=eval(input('enter the breadth'))\n",
    "    height=eval(input('enter the height'))\n",
    "    area_of_triangle=0.5*breadth*height\n",
    "    print(area_of_triangle)\n",
    "area_of_triangle()"
   ]
  },
  {
   "cell_type": "code",
   "execution_count": 33,
   "id": "2509fe9e-6f5e-4c28-9e24-4b4e77c12006",
   "metadata": {},
   "outputs": [
    {
     "name": "stdin",
     "output_type": "stream",
     "text": [
      "enter the number 23\n"
     ]
    },
    {
     "name": "stdout",
     "output_type": "stream",
     "text": [
      "odd number\n"
     ]
    }
   ],
   "source": [
    "def find_number():\n",
    "    num=eval(input('enter the number'))\n",
    "    if num%2==0:\n",
    "        print('even number')\n",
    "    else:\n",
    "        print('odd number')\n",
    "find_number()"
   ]
  },
  {
   "cell_type": "code",
   "execution_count": 41,
   "id": "a813097d-ee43-4836-a889-92a57d8b62b1",
   "metadata": {},
   "outputs": [
    {
     "name": "stdin",
     "output_type": "stream",
     "text": [
      "enter the number -2\n"
     ]
    },
    {
     "name": "stdout",
     "output_type": "stream",
     "text": [
      "negative number\n"
     ]
    }
   ],
   "source": [
    "def positive_negative():\n",
    "    num=eval(input('enter the number'))\n",
    "    if num>0:\n",
    "        print('positive number')\n",
    "    elif num==0:\n",
    "        print('zero')\n",
    "    else:\n",
    "        print('negative number')\n",
    "positive_negative()"
   ]
  },
  {
   "cell_type": "code",
   "execution_count": 45,
   "id": "e221dbea-6415-4536-b75f-700b0e00233e",
   "metadata": {},
   "outputs": [
    {
     "name": "stdin",
     "output_type": "stream",
     "text": [
      "enter the number 80\n",
      "enter the number 90\n",
      "enter the number 20\n"
     ]
    },
    {
     "name": "stdout",
     "output_type": "stream",
     "text": [
      "90 is gretest\n"
     ]
    }
   ],
   "source": [
    "def greatest():\n",
    "    num1=eval(input('enter the number'))\n",
    "    num2=eval(input('enter the number'))\n",
    "    num3=eval(input('enter the number'))\n",
    "    if num1>num2 and num1>num3:\n",
    "        print(f'{num1} is gretest')\n",
    "    elif num2>num3:\n",
    "        print(f'{num2} is gretest')\n",
    "    else: \n",
    "        print(f'{num3} is gretest')\n",
    "\n",
    "greatest()"
   ]
  },
  {
   "cell_type": "code",
   "execution_count": 49,
   "id": "3c758995-72ba-45c5-b1d9-a6896b7ce288",
   "metadata": {},
   "outputs": [
    {
     "name": "stdout",
     "output_type": "stream",
     "text": [
      "20.0\n"
     ]
    }
   ],
   "source": [
    "def average(num1,num2,num3):\n",
    "    avg=(num1+num2+num3)/3\n",
    "    print(avg)\n",
    "average(10,20,30)"
   ]
  },
  {
   "cell_type": "code",
   "execution_count": 51,
   "id": "8dca8041-34da-4cd1-964e-65013b2f5e75",
   "metadata": {},
   "outputs": [
    {
     "name": "stdout",
     "output_type": "stream",
     "text": [
      "1\n",
      "2\n",
      "3\n",
      "4\n",
      "5\n"
     ]
    }
   ],
   "source": [
    "for i in range(1,6):\n",
    "    print(i)"
   ]
  },
  {
   "cell_type": "code",
   "execution_count": 1,
   "id": "616b5a08-f4ce-4b4a-ae5d-d90b427537e7",
   "metadata": {},
   "outputs": [
    {
     "name": "stdout",
     "output_type": "stream",
     "text": [
      "1\n",
      "2\n",
      "3\n"
     ]
    }
   ],
   "source": [
    "i=1\n",
    "while i<4:\n",
    "    print(i)\n",
    "    i=i+1"
   ]
  },
  {
   "cell_type": "code",
   "execution_count": 1,
   "id": "31302426-af68-4760-a548-7c54fc3cca2e",
   "metadata": {},
   "outputs": [
    {
     "name": "stdout",
     "output_type": "stream",
     "text": [
      "1\n",
      "2\n",
      "3\n",
      "4\n",
      "5\n",
      "6\n",
      "7\n",
      "8\n",
      "9\n"
     ]
    }
   ],
   "source": [
    "i=1\n",
    "while i!=0:\n",
    "    print(i)\n",
    "    i=i+1\n",
    "    if i==10:\n",
    "        break"
   ]
  },
  {
   "cell_type": "code",
   "execution_count": null,
   "id": "48e1f86e-3196-49e4-a0cf-6b7854d32218",
   "metadata": {},
   "outputs": [],
   "source": [
    "i=11\n",
    "while i<=22:\n",
    "    if i%2==0:\n",
    "        print(f'{i} is even number')\n",
    "    else:\n",
    "        print('odd number')\n",
    " i=i+1\n",
    "    "
   ]
  },
  {
   "cell_type": "code",
   "execution_count": null,
   "id": "366bb9ce-722e-4a6b-8123-9c326283be71",
   "metadata": {},
   "outputs": [],
   "source": []
  },
  {
   "cell_type": "code",
   "execution_count": null,
   "id": "8b77bf97-6910-45aa-a4ba-07358c23a182",
   "metadata": {},
   "outputs": [],
   "source": []
  }
 ],
 "metadata": {
  "kernelspec": {
   "display_name": "Python 3 (ipykernel)",
   "language": "python",
   "name": "python3"
  },
  "language_info": {
   "codemirror_mode": {
    "name": "ipython",
    "version": 3
   },
   "file_extension": ".py",
   "mimetype": "text/x-python",
   "name": "python",
   "nbconvert_exporter": "python",
   "pygments_lexer": "ipython3",
   "version": "3.12.4"
  }
 },
 "nbformat": 4,
 "nbformat_minor": 5
}
